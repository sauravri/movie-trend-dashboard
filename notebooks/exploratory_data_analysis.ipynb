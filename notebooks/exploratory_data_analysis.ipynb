{
 "cells": [
  {
   "cell_type": "code",
   "execution_count": null,
   "id": "588a8734",
   "metadata": {
    "vscode": {
     "languageId": "plaintext"
    }
   },
   "outputs": [],
   "source": [
    "import mysql.connector\n",
    "import pandas as pd\n",
    "import os\n",
    "from dotenv import load_dotenv\n",
    "\n",
    "load_dotenv()\n",
    "\n",
    "# Connection\n",
    "DB_HOST = os.getenv(\"DB_HOST\")\n",
    "DB_PORT = os.getenv(\"DB_PORT\")\n",
    "DB_NAME = os.getenv(\"DB_NAME\")\n",
    "DB_USER = os.getenv(\"DB_USER\")\n",
    "DB_PASSWORD = os.getenv(\"DB_PASSWORD\")\n",
    "\n",
    "conn = mysql.connector.connect(\n",
    "    host=DB_HOST,\n",
    "    port=DB_PORT,\n",
    "    database=DB_NAME,\n",
    "    user=DB_USER,\n",
    "    password=DB_PASSWORD\n",
    ")\n",
    "\n",
    "# Loading data\n",
    "df = pd.read_sql(\"SELECT * FROM movies\", conn)\n",
    "print(\"Movies Data:\")\n",
    "print(df)\n",
    "\n",
    "# Some example analysis\n",
    "average_rating = df['imdb_rating'].mean()\n",
    "average_box_office = df['box_office'].mean()\n",
    "\n",
    "print(f\"Average IMDB Rating: {average_rating}\")\n",
    "print(f\"Average Box Office: {average_box_office}\")\n",
    "\n",
    "# Top 5 by box office\n",
    "print(\"Top 5 by Box Office:\")\n",
    "print(df.sort_values(by='box_office', ascending=False).head(5))\n",
    "\n",
    "# Closing connection\n",
    "conn.close()\n"
   ]
  }
 ],
 "metadata": {
  "language_info": {
   "name": "python"
  }
 },
 "nbformat": 4,
 "nbformat_minor": 5
}
